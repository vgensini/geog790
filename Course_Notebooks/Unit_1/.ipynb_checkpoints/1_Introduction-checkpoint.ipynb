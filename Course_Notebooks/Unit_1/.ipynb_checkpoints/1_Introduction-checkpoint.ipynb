{
 "cells": [
  {
   "cell_type": "markdown",
   "metadata": {},
   "source": [
    "## <font color='red' >Why Python? </font>\n",
    "***\n",
    "<body>\n",
    "<ul>\n",
    "\t<li><font face=\"Consolas\">Python is open source!</font></li>\n",
    "\t<li><font face=\"Consolas\">Python is widely used in Geographic and \n",
    "\tAtmospheric Science</font></li>\n",
    "\t<li><font face=\"Consolas\">Python syntax is relatively easy to understand</font></li>\n",
    "\t<li><font face=\"Consolas\">The Python user community is large</font></li>\n",
    "</ul>\n",
    "<p>\n",
    "<img border=\"0\" src=\"https://upload.wikimedia.org/wikipedia/commons/a/ad/Lozingle_10032014.jpg\" width=\"320\" height=\"157\" align=\"left\"></p>\n",
    "</body>"
   ]
  },
  {
   "cell_type": "markdown",
   "metadata": {},
   "source": [
    "## <font color='red' >Installing Python</font>\n",
    "***\n",
    "<body>\n",
    "<p><font face=\"Consolas\"><a target=\"_blank\" href=\"https://www.anaconda.com/\">Anaconda</a> is an open-source platform that allows for easy installation of Python and management of Python packages.</font></p>\n",
    "<p><font face=\"Consolas\">Once Anaconda is installed, environment and package \n",
    "management is easily done using the Anaconda Prompt:</font></p>\n",
    "<p>\n",
    "<img border=\"0\" src=\"menu.png\" width=\"250\" height=\"429\" align=\"left\"> </p>\n",
    "<p><font face=\"Consolas\">A new environment can be created by:\n",
    "<span style=\"background-color: #C0C0C0\">conda create --name gensini_research \n",
    "python=3.6</span></font></p>\n",
    "<p><font face=\"Consolas\">This would create an Python environment named \n",
    "gensini_research using Python version 3.6</font></p>\n",
    "<p><font face=\"Consolas\">To activate this environment, one would need to:\n",
    "<span style=\"background-color: #C0C0C0\">activate gensini_research</span></font></p>\n",
    "<p><font face=\"Consolas\">After activation, one can install a package:\n",
    "<span style=\"background-color: #C0C0C0\">conda install -c conda-forge metpy</span></font></p>\n",
    "<p><font face=\"Consolas\">I have an environment already set up for you (<a target=\"_blank\" href=\"https://raw.githubusercontent.com/vgensini/geog790/master/geog790.yml\">.yml \n",
    "file</a>)</font></p>\n",
    "<p><font face=\"Consolas\">Thus, you can simply:\n",
    "<span style=\"background-color: #C0C0C0\">conda-env create -f geog790.yml</span> \n",
    "(file must be in directory!)</font></p>\n",
    "<p><font face=\"Consolas\">For this class, it is probably only necessary to have \n",
    "one environment. There are many applications where having multiple environments \n",
    "can make your life a lot easier. </font></p>\n",
    "\n",
    "</body>"
   ]
  },
  {
   "cell_type": "markdown",
   "metadata": {},
   "source": [
    "## <font color='red' >Jupyter Notebooks</font>\n",
    "***\n",
    "<body>\n",
    "<p><font face=\"Consolas\">Jupyter Notebooks are great way to interact with your \n",
    "code and share it with other colleagues. They are nice because they execute \n",
    "parts of your code at a time and store the results in memory to be used later. \n",
    "They have an .ipynb extention, which is different than a Python script (.py) \n",
    "which will execute all code blocks. </font></p>\n",
    "<p><font face=\"Consolas\">Head back to the start menu and launch &quot;Jupyter \n",
    "Notebook.&quot;</font></p>\n",
    "\n",
    "</body>"
   ]
  },
  {
   "cell_type": "markdown",
   "metadata": {},
   "source": [
    "## <font color='red' >Class examples of markdown and code blocks</font>\n",
    "***"
   ]
  },
  {
   "cell_type": "code",
   "execution_count": 1,
   "metadata": {
    "collapsed": true
   },
   "outputs": [],
   "source": [
    "#This is a python comment in a code block - The \"pound\" or \"hashtag\" symbol denotes a comment in a code block"
   ]
  },
  {
   "cell_type": "markdown",
   "metadata": {},
   "source": [
    "### This is markdown in a Jupyter Notebook. You can use markdown to style your notebooks and make them easy to follow. \n",
    "\n",
    "### Control the size of the font using differing number of # symbols. \n",
    "\n",
    "### Markdown also understands .html code.  Thus, you can easily embed hyperlinks, images, or videos. \n",
    "\n",
    "### You can run a single code block or markdown element by holding the \"Shift\" key and pressing \"Enter.\""
   ]
  },
  {
   "cell_type": "markdown",
   "metadata": {},
   "source": [
    "## <font color='red' >Develop good habits from the start!</font>\n",
    "***\n",
    "<body>\n",
    "<p><font face=\"Consolas\">Comment your code and use markdown often. You will \n",
    "thank your retro self for writing good comments when re-visiting your code years \n",
    "from now.</font></p>\n",
    "</body>"
   ]
  },
  {
   "cell_type": "code",
   "execution_count": 2,
   "metadata": {},
   "outputs": [
    {
     "name": "stdout",
     "output_type": "stream",
     "text": [
      "My first Python output! Hello World!\n"
     ]
    }
   ],
   "source": [
    "#This is my first real Python codeblock\n",
    "#I'm writing the code on 7 January 2019\n",
    "#You'd be surprised what people write in code comments!\n",
    "#Most people will never see this\n",
    "print(\"My first Python output! Hello World!\") # I can also put comments here"
   ]
  },
  {
   "cell_type": "code",
   "execution_count": 3,
   "metadata": {},
   "outputs": [
    {
     "name": "stdout",
     "output_type": "stream",
     "text": [
      "7\n"
     ]
    }
   ],
   "source": [
    "#Python does simple math like no other language!\n",
    "print(3+4) "
   ]
  },
  {
   "cell_type": "code",
   "execution_count": 4,
   "metadata": {},
   "outputs": [
    {
     "data": {
      "text/plain": [
       "7"
      ]
     },
     "execution_count": 4,
     "metadata": {},
     "output_type": "execute_result"
    }
   ],
   "source": [
    "#Note that 3+4 (without the print statement) gives you a similar (but different!) answer.\n",
    "3+4"
   ]
  },
  {
   "cell_type": "markdown",
   "metadata": {},
   "source": [
    "## <font color='red' >Class example using a Python script</font>\n",
    "***\n",
    "<body>\n",
    "<p><font face=\"Consolas\">Create a python *script* that (when executed) simply prints your LastName, FirstName. E.g., for me, the script would print \"Gensini, Victor\" Name the script \"print_my_name.py\". Execute the script at the Anaconda prompt by:\n",
    "<span style=\"background-color: #C0C0C0\">python print_my_name.py</span></font></p>\n",
    "</body>"
   ]
  },
  {
   "cell_type": "markdown",
   "metadata": {},
   "source": [
    "## <font color='red' >Loops, Functions, and Other Basic Syntax</font>\n",
    "***\n",
    "<body>\n",
    "<p><font face=\"Consolas\">Again, my goal is not to teach you Python syntax. You \n",
    "are very capable of using Google to ask, &quot;How to write a for loop in Python.&quot; \n",
    "For any given Google search, you are likely to get thousands of hits with \n",
    "potential answers. It's up to <b>you</b> to troubleshoot these problems and ask \n",
    "for help only when absolutely necessary. In many cases, I spend a majority of my \n",
    "time on weather/climate related problems simply troubleshooting until I get the \n",
    "code to work. Try not to get discouraged.</font></p>\n",
    "<p><font face=\"Consolas\">If you've never used Python before (or if you think \n",
    "your skills are weak), I <b>strongly recommend</b> that you enroll and work \n",
    "through DataCamp's free\n",
    "<a target=\"_blank\" href=\"https://www.datacamp.com/courses/intro-to-python-for-data-science\">\n",
    "Introduction to Python online course</a>. The course takes less than 4 hours and \n",
    "will greatly improve your beginner Python skills. </font></p>\n",
    "<p><font face=\"Consolas\">Below, I will walk through a few basic syntax examples \n",
    "that I tend to use a lot in my work.</font></p>\n",
    "</body>"
   ]
  },
  {
   "cell_type": "markdown",
   "metadata": {},
   "source": [
    "### To define an integer, use the following syntax:"
   ]
  },
  {
   "cell_type": "code",
   "execution_count": 5,
   "metadata": {},
   "outputs": [
    {
     "name": "stdout",
     "output_type": "stream",
     "text": [
      "2\n"
     ]
    }
   ],
   "source": [
    "myint = 2\n",
    "print(myint)"
   ]
  },
  {
   "cell_type": "markdown",
   "metadata": {},
   "source": [
    "### To define a floating point number, you may use one of the following notations:"
   ]
  },
  {
   "cell_type": "code",
   "execution_count": 6,
   "metadata": {},
   "outputs": [
    {
     "name": "stdout",
     "output_type": "stream",
     "text": [
      "2.0\n",
      "2.0\n"
     ]
    }
   ],
   "source": [
    "myfloat = 2.0\n",
    "print(myfloat)\n",
    "myfloat = float(2)\n",
    "print(myfloat)"
   ]
  },
  {
   "cell_type": "markdown",
   "metadata": {},
   "source": [
    "### Strings are defined either with a single quote or a double quotes."
   ]
  },
  {
   "cell_type": "code",
   "execution_count": 7,
   "metadata": {},
   "outputs": [
    {
     "name": "stdout",
     "output_type": "stream",
     "text": [
      "GEOG 498/790 is the best class ever!\n",
      "GEOG 498/790 is the best class ever!\n"
     ]
    }
   ],
   "source": [
    "mystring = 'GEOG 498/790 is the best class ever!'\n",
    "print(mystring)\n",
    "my_new_string = \"GEOG 498/790 is the best class ever!\"\n",
    "print(my_new_string)"
   ]
  },
  {
   "cell_type": "markdown",
   "metadata": {},
   "source": [
    "### There are additional variations on defining strings that make it easier to include things such as carriage returns, backslashes and Unicode characters. These are beyond the scope here, but are covered in the <a target=\"_blank\" href=\"https://docs.python.org/3/tutorial/introduction.html#strings\"> Python documentation</a>"
   ]
  },
  {
   "cell_type": "code",
   "execution_count": 8,
   "metadata": {},
   "outputs": [
    {
     "name": "stdout",
     "output_type": "stream",
     "text": [
      "3\n",
      "Hello, how are you?\n"
     ]
    }
   ],
   "source": [
    "# Simple operators can be executed on numbers and strings:\n",
    "one = 1\n",
    "two = 2\n",
    "three = one + two\n",
    "print(three)\n",
    "\n",
    "hello1 = \"Hello,\"\n",
    "hello2 = \"how are you?\"\n",
    "combined = hello1 + \" \" + hello2\n",
    "print(combined)"
   ]
  },
  {
   "cell_type": "markdown",
   "metadata": {},
   "source": [
    "### Assignments can be done on more than one variable \"simultaneously\" on the same line like this:"
   ]
  },
  {
   "cell_type": "code",
   "execution_count": 9,
   "metadata": {},
   "outputs": [
    {
     "name": "stdout",
     "output_type": "stream",
     "text": [
      "3 4\n"
     ]
    }
   ],
   "source": [
    "a, b = 3, 4\n",
    "print(a,b)"
   ]
  },
  {
   "cell_type": "markdown",
   "metadata": {},
   "source": [
    "### Mixing operators between numbers and strings is not supported:"
   ]
  },
  {
   "cell_type": "code",
   "execution_count": 10,
   "metadata": {},
   "outputs": [
    {
     "ename": "TypeError",
     "evalue": "unsupported operand type(s) for +: 'int' and 'str'",
     "output_type": "error",
     "traceback": [
      "\u001b[0;31m---------------------------------------------------------------------------\u001b[0m",
      "\u001b[0;31mTypeError\u001b[0m                                 Traceback (most recent call last)",
      "\u001b[0;32m<ipython-input-10-4746cad37124>\u001b[0m in \u001b[0;36m<module>\u001b[0;34m()\u001b[0m\n\u001b[1;32m      4\u001b[0m \u001b[0mhello\u001b[0m \u001b[0;34m=\u001b[0m \u001b[0;34m\"hello\"\u001b[0m\u001b[0;34m\u001b[0m\u001b[0;34m\u001b[0m\u001b[0m\n\u001b[1;32m      5\u001b[0m \u001b[0;34m\u001b[0m\u001b[0m\n\u001b[0;32m----> 6\u001b[0;31m \u001b[0mprint\u001b[0m\u001b[0;34m(\u001b[0m\u001b[0mone\u001b[0m \u001b[0;34m+\u001b[0m \u001b[0mtwo\u001b[0m \u001b[0;34m+\u001b[0m \u001b[0mhello\u001b[0m\u001b[0;34m)\u001b[0m\u001b[0;34m\u001b[0m\u001b[0;34m\u001b[0m\u001b[0m\n\u001b[0m",
      "\u001b[0;31mTypeError\u001b[0m: unsupported operand type(s) for +: 'int' and 'str'"
     ]
    }
   ],
   "source": [
    "# This will not work! Thankfully, Python is good with error messages! \n",
    "one = 1\n",
    "two = 2\n",
    "hello = \"hello\"\n",
    "\n",
    "print(one + two + hello)"
   ]
  },
  {
   "cell_type": "markdown",
   "metadata": {},
   "source": [
    "### Lists are very similar to arrays. They can contain any type of variable, and they can contain as many variables as you wish. Lists can also be iterated over in a very simple manner. Here is an example of how to build a list:"
   ]
  },
  {
   "cell_type": "code",
   "execution_count": 11,
   "metadata": {},
   "outputs": [
    {
     "name": "stdout",
     "output_type": "stream",
     "text": [
      "1\n",
      "2\n",
      "3\n"
     ]
    }
   ],
   "source": [
    "mylist = []\n",
    "mylist.append(1)\n",
    "mylist.append(2)\n",
    "mylist.append(3)\n",
    "print(mylist[0]) # prints 1\n",
    "print(mylist[1]) # prints 2\n",
    "print(mylist[2]) # prints 3"
   ]
  },
  {
   "cell_type": "markdown",
   "metadata": {},
   "source": [
    "### You can also just typset values into the list if you know them a priori:"
   ]
  },
  {
   "cell_type": "code",
   "execution_count": 12,
   "metadata": {},
   "outputs": [
    {
     "name": "stdout",
     "output_type": "stream",
     "text": [
      "[4, 2, 6, 7, 8, 9, 2, 11, 6]\n"
     ]
    }
   ],
   "source": [
    "mylist = [4,2,6,7,8,9,2,11,6]\n",
    "print(mylist)"
   ]
  },
  {
   "cell_type": "code",
   "execution_count": 13,
   "metadata": {},
   "outputs": [
    {
     "name": "stdout",
     "output_type": "stream",
     "text": [
      "8\n"
     ]
    }
   ],
   "source": [
    "print(mylist[4])"
   ]
  },
  {
   "cell_type": "markdown",
   "metadata": {},
   "source": [
    "### Accessing an index which does not exist generates an exception (an error)."
   ]
  },
  {
   "cell_type": "code",
   "execution_count": 14,
   "metadata": {},
   "outputs": [
    {
     "ename": "IndexError",
     "evalue": "list index out of range",
     "output_type": "error",
     "traceback": [
      "\u001b[0;31m---------------------------------------------------------------------------\u001b[0m",
      "\u001b[0;31mIndexError\u001b[0m                                Traceback (most recent call last)",
      "\u001b[0;32m<ipython-input-14-46c3ae90a572>\u001b[0m in \u001b[0;36m<module>\u001b[0;34m()\u001b[0m\n\u001b[0;32m----> 1\u001b[0;31m \u001b[0mprint\u001b[0m\u001b[0;34m(\u001b[0m\u001b[0mmylist\u001b[0m\u001b[0;34m[\u001b[0m\u001b[0;36m10\u001b[0m\u001b[0;34m]\u001b[0m\u001b[0;34m)\u001b[0m\u001b[0;34m\u001b[0m\u001b[0;34m\u001b[0m\u001b[0m\n\u001b[0m",
      "\u001b[0;31mIndexError\u001b[0m: list index out of range"
     ]
    }
   ],
   "source": [
    "print(mylist[10])"
   ]
  },
  {
   "cell_type": "markdown",
   "metadata": {},
   "source": [
    "### Just as any other programming languages, the addition, subtraction, multiplication, and division operators can be used with numbers."
   ]
  },
  {
   "cell_type": "code",
   "execution_count": 15,
   "metadata": {},
   "outputs": [
    {
     "name": "stdout",
     "output_type": "stream",
     "text": [
      "2.5\n"
     ]
    }
   ],
   "source": [
    "number = 1 + 2 * 3 / 4.0\n",
    "print(number)"
   ]
  },
  {
   "cell_type": "markdown",
   "metadata": {},
   "source": [
    "### Using two multiplication symbols makes a power relationship."
   ]
  },
  {
   "cell_type": "code",
   "execution_count": 16,
   "metadata": {},
   "outputs": [
    {
     "name": "stdout",
     "output_type": "stream",
     "text": [
      "49\n",
      "8\n"
     ]
    }
   ],
   "source": [
    "squared = 7 ** 2\n",
    "cubed = 2 ** 3\n",
    "print(squared)\n",
    "print(cubed)"
   ]
  },
  {
   "cell_type": "markdown",
   "metadata": {},
   "source": [
    "### Python also supports multiplying strings to form a string with a repeating sequence:"
   ]
  },
  {
   "cell_type": "code",
   "execution_count": 17,
   "metadata": {},
   "outputs": [
    {
     "name": "stdout",
     "output_type": "stream",
     "text": [
      "hellohellohellohellohellohellohellohellohellohello\n"
     ]
    }
   ],
   "source": [
    "lotsofhellos = \"hello\" * 10\n",
    "print(lotsofhellos)"
   ]
  },
  {
   "cell_type": "markdown",
   "metadata": {},
   "source": [
    "### Lists can be joined with the addition operators:"
   ]
  },
  {
   "cell_type": "code",
   "execution_count": 18,
   "metadata": {},
   "outputs": [
    {
     "name": "stdout",
     "output_type": "stream",
     "text": [
      "[1, 3, 5, 7, 2, 4, 6, 8]\n"
     ]
    }
   ],
   "source": [
    "even_numbers = [2,4,6,8]\n",
    "odd_numbers = [1,3,5,7]\n",
    "all_numbers = odd_numbers + even_numbers\n",
    "print(all_numbers)"
   ]
  },
  {
   "cell_type": "markdown",
   "metadata": {},
   "source": [
    "### Python uses C-style string formatting to create new, formatted strings. The \"%\" operator is used to format a set of variables enclosed in a \"tuple\" (a fixed size list), together with a format string, which contains normal text together with \"argument specifiers\", special symbols like \"%s\" and \"%d\".\n",
    "\n",
    "#### %s - String (or any object with a string representation, like numbers)\n",
    "#### %d - Integers\n",
    "#### %f - Floating point numbers"
   ]
  },
  {
   "cell_type": "markdown",
   "metadata": {},
   "source": [
    "### Let's say you have a variable called \"name\" with your user name in it, and you would then like to print(out a greeting to that user.)"
   ]
  },
  {
   "cell_type": "code",
   "execution_count": 19,
   "metadata": {},
   "outputs": [
    {
     "name": "stdout",
     "output_type": "stream",
     "text": [
      "Hello, Victor!\n"
     ]
    }
   ],
   "source": [
    "# This prints out \"Hello, Victor!\"\n",
    "name = \"Victor\"\n",
    "print(\"Hello, %s!\" % name)"
   ]
  },
  {
   "cell_type": "code",
   "execution_count": 20,
   "metadata": {},
   "outputs": [
    {
     "name": "stdout",
     "output_type": "stream",
     "text": [
      "Victor is 21 years old.\n"
     ]
    }
   ],
   "source": [
    "# This prints out \"John is 23 years old.\"\n",
    "name = \"Victor\"\n",
    "age = 21\n",
    "print(\"%s is %d years old.\" % (name, age))"
   ]
  },
  {
   "cell_type": "code",
   "execution_count": 21,
   "metadata": {},
   "outputs": [
    {
     "name": "stdout",
     "output_type": "stream",
     "text": [
      "6\n"
     ]
    }
   ],
   "source": [
    "#This will print out 6 because my name is 6 characters long.\n",
    "print(len(name))"
   ]
  },
  {
   "cell_type": "markdown",
   "metadata": {},
   "source": [
    "### This next code block will print out 4, because the location of the first occurrence of the letter \"o\" is 4 characters away from the first character. Notice how there are actually two o's in the phrase - this method only recognizes the first.\n",
    "\n",
    "### But why didn't it print out 5? Isn't \"o\" the fifth character in the string? To make things more simple, Python (and most other programming languages) start things at 0 instead of 1. So the index of \"o\" is 4."
   ]
  },
  {
   "cell_type": "code",
   "execution_count": 22,
   "metadata": {},
   "outputs": [
    {
     "name": "stdout",
     "output_type": "stream",
     "text": [
      "4\n"
     ]
    }
   ],
   "source": [
    "astring = \"Hello world!\"\n",
    "print(astring.index(\"o\"))"
   ]
  },
  {
   "cell_type": "code",
   "execution_count": 23,
   "metadata": {},
   "outputs": [
    {
     "name": "stdout",
     "output_type": "stream",
     "text": [
      "2\n"
     ]
    }
   ],
   "source": [
    "#What do you think this is doing?\n",
    "astring = \"Hello world!\"\n",
    "print(astring.count(\"o\"))"
   ]
  },
  {
   "cell_type": "markdown",
   "metadata": {},
   "source": [
    "### This next block of code will print a slice of the string, starting at index 3, and ending at index 6. But why 6 and not 7? Again, most programming languages do this - it makes doing math inside those brackets easier.\n",
    "\n",
    "### If you just have one number in the brackets, it will give you the single character at that index. If you leave out the first number but keep the colon, it will give you a slice from the start to the number you left in. If you leave out the second number, if will give you a slice from the first number to the end.\n",
    "\n",
    "### You can even put negative numbers inside the brackets. They are an easy way of starting at the end of the string instead of the beginning. This way, -3 means \"3rd character from the end\"."
   ]
  },
  {
   "cell_type": "code",
   "execution_count": 24,
   "metadata": {},
   "outputs": [
    {
     "name": "stdout",
     "output_type": "stream",
     "text": [
      "lo w\n"
     ]
    }
   ],
   "source": [
    "astring = \"Hello world!\"\n",
    "print(astring[3:7])"
   ]
  },
  {
   "cell_type": "markdown",
   "metadata": {},
   "source": [
    "### This prints the characters of string from 3 to 7 skipping one character. This is extended slice syntax. The general form is [start:stop:step]."
   ]
  },
  {
   "cell_type": "code",
   "execution_count": 25,
   "metadata": {},
   "outputs": [
    {
     "name": "stdout",
     "output_type": "stream",
     "text": [
      "lobgw\n"
     ]
    }
   ],
   "source": [
    "astring = \"Hello_big_world!\"\n",
    "print(astring[2:12:2])"
   ]
  },
  {
   "cell_type": "markdown",
   "metadata": {},
   "source": [
    "### You can easily reverse a string like this:"
   ]
  },
  {
   "cell_type": "code",
   "execution_count": 26,
   "metadata": {},
   "outputs": [
    {
     "name": "stdout",
     "output_type": "stream",
     "text": [
      "!ygoloroeteM UIN\n"
     ]
    }
   ],
   "source": [
    "astring = \"NIU Meteorology!\"\n",
    "print(astring[::-1])"
   ]
  },
  {
   "cell_type": "markdown",
   "metadata": {},
   "source": [
    "### These make a new string with all letters converted to uppercase and lowercase, respectively."
   ]
  },
  {
   "cell_type": "code",
   "execution_count": 27,
   "metadata": {},
   "outputs": [
    {
     "name": "stdout",
     "output_type": "stream",
     "text": [
      "NIU METEOROLOGY\n",
      "niu meteorology\n"
     ]
    }
   ],
   "source": [
    "astring = \"NIU Meteorology\"\n",
    "print(astring.upper())\n",
    "print(astring.lower())"
   ]
  },
  {
   "cell_type": "markdown",
   "metadata": {},
   "source": [
    "### The following code block is an example to determine whether the string starts with something or ends with something, respectively. The first one will print True, as the string starts with \"NIU\". The second one will print False, as the string certainly does not end with \"asdfasdfasdf\"."
   ]
  },
  {
   "cell_type": "code",
   "execution_count": 28,
   "metadata": {},
   "outputs": [
    {
     "name": "stdout",
     "output_type": "stream",
     "text": [
      "True\n",
      "True\n",
      "False\n"
     ]
    }
   ],
   "source": [
    "astring = \"NIU Department of Geographic and Atmospheric Sciences\"\n",
    "print(astring.startswith(\"NIU\"))\n",
    "print(astring.endswith(\"Sciences\"))\n",
    "print(astring.endswith(\"asdfasdfasdf\"))"
   ]
  },
  {
   "cell_type": "markdown",
   "metadata": {
    "collapsed": true
   },
   "source": [
    "### Reserved words...The following list shows the Python keywords. These are reserved words and you cannot use them as constant or variable or any other identifier names. All the Python keywords contain lowercase letters only.\n",
    "\n",
    "<body>\n",
    "<ul>\n",
    "\t<li><font face=\"Consolas\">and</font></li>\n",
    "\t<li><font face=\"Consolas\">exec</font></li>\n",
    "\t<li><font face=\"Consolas\">not</font></li>\n",
    "\t<li><font face=\"Consolas\">assert</font></li>\n",
    "\t<li><font face=\"Consolas\">finally</font></li>\n",
    "\t<li><font face=\"Consolas\">or</font></li>\n",
    "\t<li><font face=\"Consolas\">break</font></li>\n",
    "\t<li><font face=\"Consolas\">for</font></li>\n",
    "\t<li><font face=\"Consolas\">pass</font></li>\n",
    "\t<li><font face=\"Consolas\">class</font></li>\n",
    "\t<li><font face=\"Consolas\">from</font></li>\n",
    "\t<li><font face=\"Consolas\">print</font></li>\n",
    "\t<li><font face=\"Consolas\">continue</font></li>\n",
    "\t<li><font face=\"Consolas\">global</font></li>\n",
    "\t<li><font face=\"Consolas\">raise</font></li>\n",
    "\t<li><font face=\"Consolas\">def</font></li>\n",
    "\t<li><font face=\"Consolas\">if</font></li>\n",
    "\t<li><font face=\"Consolas\">return</font></li>\n",
    "\t<li><font face=\"Consolas\">del</font></li>\n",
    "\t<li><font face=\"Consolas\">import</font></li>\n",
    "\t<li><font face=\"Consolas\">try</font></li>\n",
    "\t<li><font face=\"Consolas\">elif</font></li>\n",
    "\t<li><font face=\"Consolas\">in</font></li>\n",
    "\t<li><font face=\"Consolas\">while</font></li>\n",
    "\t<li><font face=\"Consolas\">else</font></li>\n",
    "\t<li><font face=\"Consolas\">is</font></li>\n",
    "\t<li><font face=\"Consolas\">with</font></li>\n",
    "\t<li><font face=\"Consolas\">except</font></li>\n",
    "\t<li><font face=\"Consolas\">lambda</font></li>\n",
    "\t<li><font face=\"Consolas\">yield</font></li>\n",
    "</ul>\n",
    "\n",
    "</body>\n"
   ]
  },
  {
   "cell_type": "markdown",
   "metadata": {},
   "source": [
    "### Python uses boolean variables to evaluate conditions. The boolean values True and False are returned when an expression is compared or evaluated. For example:"
   ]
  },
  {
   "cell_type": "code",
   "execution_count": 29,
   "metadata": {},
   "outputs": [
    {
     "name": "stdout",
     "output_type": "stream",
     "text": [
      "True\n",
      "False\n",
      "True\n"
     ]
    }
   ],
   "source": [
    "x = 2\n",
    "print(x == 2) # prints out True\n",
    "print(x == 3) # prints out False\n",
    "print(x < 3) # prints out True"
   ]
  },
  {
   "cell_type": "markdown",
   "metadata": {},
   "source": [
    "### The \"and\" and \"or\" boolean operators allow building complex boolean expressions, for example:"
   ]
  },
  {
   "cell_type": "code",
   "execution_count": 30,
   "metadata": {},
   "outputs": [
    {
     "name": "stdout",
     "output_type": "stream",
     "text": [
      "Your name is John, and you are also 23 years old.\n",
      "Your name is either John or Rick.\n"
     ]
    }
   ],
   "source": [
    "name = \"John\"\n",
    "age = 23\n",
    "if name == \"John\" and age == 23:\n",
    "    print(\"Your name is John, and you are also 23 years old.\")\n",
    "\n",
    "if name == \"John\" or name == \"Rick\":\n",
    "    print(\"Your name is either John or Rick.\")"
   ]
  },
  {
   "cell_type": "markdown",
   "metadata": {},
   "source": [
    "### The \"in\" operator could be used to check if a specified object exists within an iterable object container, such as a list:"
   ]
  },
  {
   "cell_type": "code",
   "execution_count": 31,
   "metadata": {},
   "outputs": [
    {
     "name": "stdout",
     "output_type": "stream",
     "text": [
      "Your name is either John or Rick.\n"
     ]
    }
   ],
   "source": [
    "name = \"John\"\n",
    "if name in [\"John\", \"Rick\"]:\n",
    "    print(\"Your name is either John or Rick.\")"
   ]
  },
  {
   "cell_type": "markdown",
   "metadata": {},
   "source": [
    "### Python uses indentation to define code blocks, instead of brackets. The standard Python indentation is 4 spaces, although tabs and any other space size will work, as long as it is consistent. Notice that code blocks do not need any termination.\n",
    "\n",
    "### Here is an example for using Python's \"if\" statement using code blocks:"
   ]
  },
  {
   "cell_type": "code",
   "execution_count": 32,
   "metadata": {},
   "outputs": [
    {
     "name": "stdout",
     "output_type": "stream",
     "text": [
      "x equals two!\n"
     ]
    }
   ],
   "source": [
    "x = 2\n",
    "if x == 2:\n",
    "    print(\"x equals two!\")\n",
    "else:\n",
    "    print(\"x does not equal to two.\")"
   ]
  },
  {
   "cell_type": "markdown",
   "metadata": {},
   "source": [
    "### For loops are used quite frequently in weather/climate science to loop through information (e.g., dates, temperature records). For loops essentialy iterate over a given sequence. Here is an example:"
   ]
  },
  {
   "cell_type": "code",
   "execution_count": 33,
   "metadata": {},
   "outputs": [
    {
     "name": "stdout",
     "output_type": "stream",
     "text": [
      "2\n",
      "3\n",
      "5\n",
      "7\n"
     ]
    }
   ],
   "source": [
    "primes = [2, 3, 5, 7]\n",
    "for val in primes:\n",
    "    print(val)"
   ]
  },
  {
   "cell_type": "markdown",
   "metadata": {},
   "source": [
    "### For loops can iterate over a sequence of numbers using the \"range\" function. Note that the range function is zero based."
   ]
  },
  {
   "cell_type": "code",
   "execution_count": 34,
   "metadata": {},
   "outputs": [
    {
     "name": "stdout",
     "output_type": "stream",
     "text": [
      "0\n",
      "1\n",
      "2\n",
      "3\n",
      "4\n",
      "done with first!\n",
      "3\n",
      "4\n",
      "5\n",
      "done with second!\n",
      "3\n",
      "5\n",
      "7\n",
      "done with third!\n"
     ]
    }
   ],
   "source": [
    "# Prints out the numbers 0,1,2,3,4\n",
    "for x in range(5):\n",
    "    print(x)\n",
    "print(\"done with first!\")\n",
    "# Prints out 3,4,5\n",
    "for x in range(3, 6):\n",
    "    print(x)\n",
    "print(\"done with second!\")\n",
    "# Prints out 3,5,7\n",
    "for x in range(3, 8, 2):\n",
    "    print(x)\n",
    "print(\"done with third!\")"
   ]
  },
  {
   "cell_type": "markdown",
   "metadata": {},
   "source": [
    "### While loops repeat as long as a certain boolean condition is met. For example:"
   ]
  },
  {
   "cell_type": "code",
   "execution_count": 35,
   "metadata": {},
   "outputs": [
    {
     "name": "stdout",
     "output_type": "stream",
     "text": [
      "0\n",
      "1\n",
      "2\n",
      "3\n",
      "4\n"
     ]
    }
   ],
   "source": [
    "count = 0\n",
    "while count < 5:\n",
    "    print(count)\n",
    "    count += 1  # This is the same as count = count + 1"
   ]
  },
  {
   "cell_type": "markdown",
   "metadata": {},
   "source": [
    "### \"break\" is used to exit a for loop or a while loop, whereas \"continue\" is used to skip the current block, and return to the \"for\" or \"while\" statement. A few examples:"
   ]
  },
  {
   "cell_type": "code",
   "execution_count": 36,
   "metadata": {},
   "outputs": [
    {
     "name": "stdout",
     "output_type": "stream",
     "text": [
      "0\n",
      "1\n",
      "2\n",
      "3\n",
      "4\n",
      "Done with break example!\n",
      "1\n",
      "3\n",
      "5\n",
      "7\n",
      "9\n",
      "Done with continue example!\n"
     ]
    }
   ],
   "source": [
    "# Prints out 0,1,2,3,4\n",
    "\n",
    "count = 0\n",
    "while True:\n",
    "    print(count)\n",
    "    count += 1\n",
    "    if count >= 5:\n",
    "        break\n",
    "print(\"Done with break example!\")\n",
    "\n",
    "# Prints out only odd numbers - 1,3,5,7,9\n",
    "for x in range(10):\n",
    "    # Check if x is even\n",
    "    if x % 2 == 0:\n",
    "        continue\n",
    "    print(x)\n",
    "print(\"Done with continue example!\")"
   ]
  },
  {
   "cell_type": "markdown",
   "metadata": {},
   "source": [
    "### When the loop condition of \"for\" or \"while\" statement fails then code part in \"else\" is executed."
   ]
  },
  {
   "cell_type": "code",
   "execution_count": 37,
   "metadata": {},
   "outputs": [
    {
     "name": "stdout",
     "output_type": "stream",
     "text": [
      "0\n",
      "1\n",
      "2\n",
      "3\n",
      "4\n",
      "count value reached 5\n"
     ]
    }
   ],
   "source": [
    "# Prints out 0,1,2,3,4 and then it prints \"count value reached 5\"\n",
    "\n",
    "count=0\n",
    "while(count<5):\n",
    "    print(count)\n",
    "    count +=1\n",
    "else:\n",
    "    print(\"count value reached %d\" %(count))"
   ]
  },
  {
   "cell_type": "markdown",
   "metadata": {},
   "source": [
    "### Functions in python are defined using the block keyword \"def\", followed with the function's name as the block's name. Functions are very useful for \"packets\" of code that you are likely to reuse often. Here is an example of how to create a function:"
   ]
  },
  {
   "cell_type": "code",
   "execution_count": 38,
   "metadata": {
    "collapsed": true
   },
   "outputs": [],
   "source": [
    "def my_function():\n",
    "    print(\"Hello From My Function!\")"
   ]
  },
  {
   "cell_type": "code",
   "execution_count": 39,
   "metadata": {},
   "outputs": [
    {
     "name": "stdout",
     "output_type": "stream",
     "text": [
      "Hello From My Function!\n"
     ]
    }
   ],
   "source": [
    "#Now you can use the function!\n",
    "\n",
    "my_function()"
   ]
  },
  {
   "cell_type": "markdown",
   "metadata": {},
   "source": [
    "### Functions may also receive arguments (variables passed from the caller to the function). For example:"
   ]
  },
  {
   "cell_type": "code",
   "execution_count": 40,
   "metadata": {
    "collapsed": true
   },
   "outputs": [],
   "source": [
    "def my_function_with_args(username, greeting):\n",
    "    print(\"Hello, %s , From My Function!, I wish you %s\"%(username, greeting))"
   ]
  },
  {
   "cell_type": "code",
   "execution_count": 41,
   "metadata": {},
   "outputs": [
    {
     "name": "stdout",
     "output_type": "stream",
     "text": [
      "Hello, vgensini , From My Function!, I wish you good luck and fortune!\n"
     ]
    }
   ],
   "source": [
    "my_function_with_args(\"vgensini\", \"good luck and fortune!\")"
   ]
  },
  {
   "cell_type": "markdown",
   "metadata": {},
   "source": [
    "### Functions may return a value to the caller, using the keyword- 'return' . For example:"
   ]
  },
  {
   "cell_type": "code",
   "execution_count": 42,
   "metadata": {
    "collapsed": true
   },
   "outputs": [],
   "source": [
    "def sum_two_numbers(a, b):\n",
    "    return a + b"
   ]
  },
  {
   "cell_type": "code",
   "execution_count": 43,
   "metadata": {},
   "outputs": [
    {
     "name": "stdout",
     "output_type": "stream",
     "text": [
      "7\n"
     ]
    }
   ],
   "source": [
    "final_result = sum_two_numbers(4,3)\n",
    "print(final_result)"
   ]
  },
  {
   "cell_type": "markdown",
   "metadata": {},
   "source": [
    "### Objects are an encapsulation of variables and functions into a single entity. Objects get their variables and functions from classes. Classes are essentially a template to create your objects.\n",
    "\n",
    "### A very basic class would look something like this:"
   ]
  },
  {
   "cell_type": "code",
   "execution_count": 44,
   "metadata": {
    "collapsed": true
   },
   "outputs": [],
   "source": [
    "class StationModel:\n",
    "    temperature = 77.3\n",
    "    dewpoint = 66.9\n",
    "    pressure = 1003.21\n",
    "\n",
    "    def send_my_message(self):\n",
    "        print(\"This is a message inside the class.\")"
   ]
  },
  {
   "cell_type": "markdown",
   "metadata": {},
   "source": [
    "### We'll explain why you have to include that \"self\" as a parameter a little bit later. First, to assign the above class(template) to an object you would do the following:"
   ]
  },
  {
   "cell_type": "code",
   "execution_count": 45,
   "metadata": {
    "collapsed": true
   },
   "outputs": [],
   "source": [
    "class StationModel:\n",
    "    temperature = 77.3\n",
    "    dewpoint = 66.9\n",
    "    pressure = 1003.21\n",
    "\n",
    "    def send_my_message(self):\n",
    "        print(\"This is a message inside the class.\")\n",
    "        \n",
    "myobjectX = StationModel()"
   ]
  },
  {
   "cell_type": "markdown",
   "metadata": {},
   "source": [
    "### Now the variable \"myobjectX\" holds an object of the class \"StationModel\" that contains the variables and the function defined within the class called \"StationModel\".\n",
    "\n",
    "### To access the variables inside of the newly created object \"myobjectX\" you would do the following:"
   ]
  },
  {
   "cell_type": "code",
   "execution_count": 46,
   "metadata": {},
   "outputs": [
    {
     "data": {
      "text/plain": [
       "1003.21"
      ]
     },
     "execution_count": 46,
     "metadata": {},
     "output_type": "execute_result"
    }
   ],
   "source": [
    "class StationModel:\n",
    "    temperature = 77.3\n",
    "    dewpoint = 66.9\n",
    "    pressure = 1003.21\n",
    "\n",
    "    def send_my_message(self):\n",
    "        print(\"This is a message inside the class.\")\n",
    "        \n",
    "myobjectX = StationModel()\n",
    "\n",
    "myobjectX.pressure"
   ]
  },
  {
   "cell_type": "markdown",
   "metadata": {},
   "source": [
    "### To access a function inside of an object you use notation similar to accessing a variable:"
   ]
  },
  {
   "cell_type": "code",
   "execution_count": 47,
   "metadata": {},
   "outputs": [
    {
     "name": "stdout",
     "output_type": "stream",
     "text": [
      "This is a message inside the class.\n"
     ]
    }
   ],
   "source": [
    "class StationModel:\n",
    "    temperature = 77.3\n",
    "    dewpoint = 66.9\n",
    "    pressure = 1003.21\n",
    "\n",
    "    def send_my_message(self):\n",
    "        print(\"This is a message inside the class.\")\n",
    "        \n",
    "myobjectX = StationModel()\n",
    "\n",
    "myobjectX.send_my_message()"
   ]
  },
  {
   "cell_type": "markdown",
   "metadata": {},
   "source": [
    "## <font color='red' >Dictionaries</font>\n",
    "***"
   ]
  },
  {
   "cell_type": "markdown",
   "metadata": {},
   "source": [
    "### A dictionary is a data type similar to arrays, but works with keys and values instead of indexes. Each value stored in a dictionary can be accessed using a key, which is any type of object (a string, a number, a list, etc.) instead of using its index to address it.\n",
    "\n",
    "### For example, a database of US city temperatures could be stored using a dictionary like this:"
   ]
  },
  {
   "cell_type": "code",
   "execution_count": 48,
   "metadata": {},
   "outputs": [
    {
     "name": "stdout",
     "output_type": "stream",
     "text": [
      "{'DeKalb, IL': 33, 'McNabb, IL': 38, 'Athens, GA': 71, 'Norman, OK': 64}\n"
     ]
    }
   ],
   "source": [
    "current_temps = {} #Create an empty dictionary\n",
    "\n",
    "#Create some dictionary entries\n",
    "current_temps[\"DeKalb, IL\"] = 33\n",
    "current_temps[\"McNabb, IL\"] = 38\n",
    "current_temps[\"Athens, GA\"] = 71\n",
    "current_temps[\"Norman, OK\"] = 64\n",
    "\n",
    "print(current_temps)"
   ]
  },
  {
   "cell_type": "markdown",
   "metadata": {},
   "source": [
    "### Alternatively, a dictionary can be initialized with the same values in the following notation:"
   ]
  },
  {
   "cell_type": "code",
   "execution_count": 49,
   "metadata": {},
   "outputs": [
    {
     "name": "stdout",
     "output_type": "stream",
     "text": [
      "{'DeKalb, IL': 43, 'McNabb, IL': 48, 'Athens, GA': 81, 'Norman, OK': 74}\n"
     ]
    }
   ],
   "source": [
    "dict_of_temps = {\n",
    "    \"DeKalb, IL\" : 43,\n",
    "    \"McNabb, IL\" : 48,\n",
    "    \"Athens, GA\" : 81,\n",
    "    \"Norman, OK\" : 74\n",
    "}\n",
    "print(dict_of_temps)"
   ]
  },
  {
   "cell_type": "markdown",
   "metadata": {},
   "source": [
    "### Dictionaries can be iterated over, just like a list. However, a dictionary, unlike a list, does not keep the order of the values stored in it. To iterate over key value pairs, use the following syntax:"
   ]
  },
  {
   "cell_type": "code",
   "execution_count": 50,
   "metadata": {},
   "outputs": [
    {
     "name": "stdout",
     "output_type": "stream",
     "text": [
      "The temperature in DeKalb, IL is 33 F\n",
      "The temperature in McNabb, IL is 38 F\n",
      "The temperature in Athens, GA is 71 F\n",
      "The temperature in Norman, OK is 64 F\n"
     ]
    }
   ],
   "source": [
    "for city_name, temp in current_temps.items():\n",
    "    print(\"The temperature in %s is %d F\" % (city_name, temp))"
   ]
  },
  {
   "cell_type": "markdown",
   "metadata": {},
   "source": [
    "### You can easily remove a dictionary entry too:"
   ]
  },
  {
   "cell_type": "code",
   "execution_count": 51,
   "metadata": {},
   "outputs": [
    {
     "name": "stdout",
     "output_type": "stream",
     "text": [
      "{'DeKalb, IL': 33, 'Athens, GA': 71, 'Norman, OK': 64}\n"
     ]
    }
   ],
   "source": [
    "del current_temps[\"McNabb, IL\"]\n",
    "print(current_temps)"
   ]
  },
  {
   "cell_type": "markdown",
   "metadata": {},
   "source": [
    "## This concludes an introductory look into the syntax of Python. You will gain more \"tools\" as the semester progresses and your knowledge of Python increases. "
   ]
  }
 ],
 "metadata": {
  "kernelspec": {
   "display_name": "Python [conda env:py36]",
   "language": "python",
   "name": "conda-env-py36-py"
  },
  "language_info": {
   "codemirror_mode": {
    "name": "ipython",
    "version": 3
   },
   "file_extension": ".py",
   "mimetype": "text/x-python",
   "name": "python",
   "nbconvert_exporter": "python",
   "pygments_lexer": "ipython3",
   "version": "3.6.7"
  }
 },
 "nbformat": 4,
 "nbformat_minor": 2
}
