{
 "cells": [
  {
   "cell_type": "markdown",
   "metadata": {
    "nbpresent": {
     "id": "f203c742-a376-4e20-b95b-8e247037c704"
    }
   },
   "source": [
    "# <font color='red'> Spring 2019 GEOG 498/790: Seminar in Current Problems </font>\n",
    "## Data analysis and visualization for geographic and atmospheric science in Python\n",
    "<body><img style=\"float:right;height:50px\"src=\"https://encrypted-tbn0.gstatic.com/images?q=tbn:ANd9GcQthtdrc2lZyEOC1iiwubFyvNfzJE7q7_GCTdlFF3peKckmi7cN\">\n",
    "<br>\n",
    "<font face=\"Consolas\">Lab Applications Tuesday 9:30-10:45a (DH 101) | Lecture Thursday 9:30-10:45a (DH 217)\n",
    "<br>\n",
    "Professor: Dr. Victor Gensini | vgensini@niu.edu | 219-E Davis Hall\n",
    "<br>\n",
    "Department of Geographic and Atmospheric Sciences\n",
    "<br>\n",
    "Northern Illinois University</font>\n",
    "</body>"
   ]
  },
  {
   "cell_type": "markdown",
   "metadata": {
    "nbpresent": {
     "id": "d887c563-e517-488c-98e9-77b673afffd0"
    }
   },
   "source": [
    "## <font color='red'> Course Description </font>\n",
    "***\n",
    "<body>\n",
    "<p><font face=\"Consolas\">This course will introduce modern concepts and recent \n",
    "trends in data analysis and visualization using the <b>Python</b> programming \n",
    "language. Python (not to be confused with the snake species!) is quickly \n",
    "becoming the most popular programming language for scientific data analysis and \n",
    "visualization. This is, in part, due to the <b>open-source</b> (i.e., free) \n",
    "nature of Python libraries, easy-to-learn syntax, and wide user support \n",
    "community. This course is not intended to teach you all the intricacies \n",
    "associated with the Python programming language. Rather, my goal is to <i>open your world</i> \n",
    "to the powerful capabilities this language (and its corresponding libraries) has \n",
    "to offer in the context of <b>applied problem solving</b> in geographic and \n",
    "atmospheric science. Our field is entering (already in?) an era of \n",
    "&quot;<b>big-data</b>&quot;, where large datasets are becoming the basis for administrative \n",
    "decision making (<i>e.g., data analytics</i>). Thus, skills in data analytics are \n",
    "highly desirable from employers, especially those related to weather and \n",
    "climate applications. I cannot possibly teach you everything there is to know about Python programming as it pertains to geography/meteorology in one semester. There will likely be a lot of web searching for the correct syntax or answer to a specific coding problem. This is all a part of the normal learning process, so please try not to get frustrated. <i>Patience is key when developing excellent code.</i><br>\n",
    "<br>\n",
    "This particular semester is unique in that the beginning knowledge base spans \n",
    "from junior undergraduate to second-year PhD. This is sometimes the case in \n",
    "&quot;graduate&quot; seminar-style courses, but do not expect this to impact course \n",
    "content. We will still examine complex topics and work toward solving applied \n",
    "research problems that have the potential to be submitted to a referred journal \n",
    "for publication. Graduate students (GEOG 790) will have different expectations \n",
    "vs. undergraduate (GEOG 498) students. This may include leading class \n",
    "discussions in a &quot;flipped&quot; environment, contribution of additional analyses, and \n",
    "leading the organization and writing of any potential manuscripts.<br>\n",
    "<br>\n",
    "The first ~half of this course will present topics (elaborated on below) relevant to this seminar. The second ~half will focus on developing specific group projects and applying course techniques on a targeted weather/climate research problem. At the end of the course, each group will present their respective project to an open-department audience and turn in a formatted research paper (details forthcoming).\n",
    "</font></p>\n",
    "</body>"
   ]
  },
  {
   "cell_type": "markdown",
   "metadata": {
    "nbpresent": {
     "id": "ac957b64-abf0-40b9-9cd9-88397087c479"
    }
   },
   "source": [
    "## <font color='red' >Learning Outcomes </font>\n",
    "***\n",
    "<body>\n",
    "<ul>\n",
    "\t<li><font face=\"Consolas\">Understand basic Python syntax and environments (including Jupyter Research Notebooks)</font></li>\n",
    "\t<li><font face=\"Consolas\">Display and manipulate various meteorological file formats (e.g., netCDF)</font></li>\n",
    "\t<li><font face=\"Consolas\">Describe various Python libraries used in \n",
    "\tscientific data analysis and visualization</font></li>\n",
    "\t<li><font face=\"Consolas\">Generate IPython notebooks for weather/climate data analysis and visualization</font></li>\n",
    "\t<li><font face=\"Consolas\">Apply basic data analytics to a unique \n",
    "\tweather/climate research question</font></li>\n",
    "\t<li><font face=\"Consolas\">Explore common data sources and creation of new \n",
    "\tdata sets</font></li>\n",
    "</ul>\n",
    "\n",
    "</body>"
   ]
  },
  {
   "cell_type": "markdown",
   "metadata": {
    "nbpresent": {
     "id": "29ae3b23-5c5c-4349-9fe9-c83619a98f7d"
    }
   },
   "source": [
    "## <font color='red'> Topical outline</font>\n",
    "***\n",
    "<body>\n",
    "<p><font face=\"Consolas\"><b>1. Strategies for approaching applied weather/climate \n",
    "questions</b><br>\n",
    "&nbsp;&nbsp;&nbsp; a. Asking the &quot;right&quot; question<br>\n",
    "&nbsp;&nbsp;&nbsp;&nbsp;&nbsp;&nbsp;&nbsp; <i>i</i>. Background literature<br>\n",
    "&nbsp;&nbsp;&nbsp;&nbsp;&nbsp;&nbsp;&nbsp; <i>ii</i>. Gaps, future work, new datasets<br>\n",
    "&nbsp;&nbsp;&nbsp;&nbsp;&nbsp;&nbsp;&nbsp; <i>iii</i>. Hypothesis<br>\n",
    "&nbsp;&nbsp;&nbsp; b. Data, data, data<br>\n",
    "&nbsp;&nbsp;&nbsp; c. Analysis<br>\n",
    "&nbsp;&nbsp;&nbsp; d. Visualization<br>\n",
    "&nbsp;&nbsp;&nbsp; e. &quot;Condensation&quot;<br>\n",
    "&nbsp;&nbsp;&nbsp; f. Expressing uncertainty</font></p>\n",
    "<p><b><font face=\"Consolas\">2</font></b><font face=\"Consolas\"><b>. Introduction to Python</b> <br>\n",
    "&nbsp;&nbsp;&nbsp; a. Installing Anaconda<br>\n",
    "&nbsp;&nbsp;&nbsp; b. The Anaconda Terminal<br>\n",
    "&nbsp;&nbsp;&nbsp; c. Managing the Anaconda Environment<br>\n",
    "&nbsp;&nbsp;&nbsp; d. IPython, Jupyter Notebooks, and Python Scripts<br>\n",
    "&nbsp;&nbsp;&nbsp; e. Loops, functions, and simple logic syntax</font></p>\n",
    "<p><font face=\"Consolas\"><b>3. Common Weather/Climate Data Formats</b><br>\n",
    "&nbsp;&nbsp;&nbsp; a. Tabular/CSV<br>\n",
    "&nbsp;&nbsp;&nbsp; b. GRIB/GRIB2<br>\n",
    "&nbsp;&nbsp;&nbsp; c. netCDF, CF conventions<br>\n",
    "&nbsp;&nbsp;&nbsp; d. XML<br>\n",
    "&nbsp;&nbsp;&nbsp; e. Shapefile / Raster<br>\n",
    "&nbsp;&nbsp;&nbsp; f. Converters</font></p>\n",
    "<p><font face=\"Consolas\"><b>4. Common Python libraries for weather/climate data \n",
    "analysis</b><br>\n",
    "&nbsp;&nbsp;&nbsp; a. Data arrays<br>\n",
    "&nbsp;&nbsp;&nbsp;&nbsp;&nbsp;&nbsp;&nbsp; <i>i</i>. NumPy<br>\n",
    "&nbsp;&nbsp;&nbsp;&nbsp;&nbsp;&nbsp;&nbsp; <i>ii</i>. xarray<br>\n",
    "&nbsp;&nbsp;&nbsp; b. Data visualization<br>\n",
    "&nbsp;&nbsp;&nbsp;&nbsp;&nbsp;&nbsp;&nbsp; <i>i</i>. Matplotlib<br>\n",
    "&nbsp;&nbsp;&nbsp;&nbsp;&nbsp;&nbsp;&nbsp; <i>ii</i>. Seaborn<br>\n",
    "&nbsp;&nbsp;&nbsp; c. Mapping<br>\n",
    "&nbsp;&nbsp;&nbsp;&nbsp;&nbsp;&nbsp;&nbsp; <i>i</i>. Cartopy<br>\n",
    "&nbsp;&nbsp;&nbsp;&nbsp;&nbsp;&nbsp;&nbsp; <i>ii</i>. Basemap<br>\n",
    "&nbsp;&nbsp;&nbsp; d. Standalone packages<br>\n",
    "&nbsp;&nbsp;&nbsp;&nbsp;&nbsp;&nbsp;&nbsp; <i>i</i>. MetPy<br>\n",
    "&nbsp;&nbsp;&nbsp;&nbsp;&nbsp;&nbsp;&nbsp; <i>ii</i>. PyGrADS<br>\n",
    "&nbsp;&nbsp;&nbsp;&nbsp;&nbsp;&nbsp;&nbsp; <i>iii</i>. PyNGL<br>\n",
    "&nbsp;&nbsp;&nbsp; e. SciPy: The Swiss Army Knife</font></p>\n",
    "<p><font face=\"Consolas\"><b>5. Common Data Sources</b><br>\n",
    "&nbsp;&nbsp;&nbsp; a. Reanalysis data<br>\n",
    "&nbsp;&nbsp;&nbsp; b. Sounding data<br>\n",
    "&nbsp;&nbsp;&nbsp; c. Surface observation data<br>\n",
    "&nbsp;&nbsp;&nbsp; d. RADAR data<br>\n",
    "&nbsp;&nbsp;&nbsp; e. Unidata Repositories</font></p>\n",
    "<p><b><font face=\"Consolas\">6. Examples</font></b></p>\n",
    "<p><b><font face=\"Consolas\">7. Brainstorm and Assign Group Projects</font></b></p>\n",
    "<p><b><font face=\"Consolas\">8. Present Group Projects</font></b></p>\n",
    "<p><b><font face=\"Consolas\">9. Final Group Project Report</font></b></p>\n",
    "</body>"
   ]
  },
  {
   "cell_type": "markdown",
   "metadata": {
    "nbpresent": {
     "id": "0cfbc43d-6a8e-4d2c-8d56-4e537491ed46"
    }
   },
   "source": [
    "## <font color='red'> Flipped Classroom Assignments </font>\n",
    "***\n",
    "<body>\n",
    "<p><font face=\"Consolas\">The general idea of a &quot;flipped classroom&quot; environment \n",
    "is to make <b>you</b> the teacher of the class. This pedagogy is often used to \n",
    "reinforce ideas/concepts that are important for understanding the foundation \n",
    "(i.e., basics) of particular topics. Here, I'd like to experiment with this \n",
    "environment on a number of relevant weather/climate related topics that could be \n",
    "of use for our seminar as we approach the group projects. One of the best ways \n",
    "to ensure you know something is to see if you can teach it to someone else!</font></p>\n",
    "<p><font face=\"Consolas\">The first week of the semester will be set aside for \n",
    "researching topical areas. I will then ask each student to sign-up to present \n",
    "the results of his/her topical research papers. Each undergraduate student \n",
    "should plan to discuss 2 research articles (they can be from different topical areas). Graduate students should plan to \n",
    "discuss 3 research articles. These articles should be from peer-reviewed journal \n",
    "articles (e.g., AMS, AGU, RMS, Springer, etc.). Try to focus on research \n",
    "articles that are applied (i.e., solving a particular problem or research \n",
    "question) rather than those focused on theory. Such applied papers will \n",
    "generally be more useful for the purposes of this seminar. Feel free to focus on \n",
    "applied weather/climate topical areas that interest you! These might include: \n",
    "aviation weather, winter weather, teleconnections ,severe convection, air \n",
    "quality, fire weather, risk and vulnerability, climate change, and more!</font></p>\n",
    "<p><font face=\"Consolas\">We have 12 participants this semester. This breaks down \n",
    "to:</font></p>\n",
    "<p><font face=\"Consolas\">9 undergraduates x 2 papers + 3 graduate students x 3 \n",
    "papers = 27 research articles. We will discuss 3 to 4 papers per week during the first half of classroom sections of seminar (~9 weeks).</font></p>\n",
    "<p><font face=\"Consolas\">Once all students have signed up for presenting papers, \n",
    "I will release a schedule. It is expected that ALL students \n",
    "read the 3 or 4 assigned papers before attending seminar for that week to ensure we \n",
    "are all on the same page for discussion.</font></p>\n",
    "<p><font face=\"Consolas\">Flipped classroom presentations should focus on \n",
    "distilling and summarizing scholarly publications as related to the topical \n",
    "area. Focus on results, methods, and conclusions, as well as any particular \n",
    "caveats or areas for future research. Try to &quot;condense&quot; the research as much as \n",
    "possible <b>without </b>compromising the scientific integrity of the paper. The \n",
    "goal here is to communicate research in an effective/efficient manner that will \n",
    "aid in sparking ideas for future research in this seminar. This is not \n",
    "necessarily <i>easy</i> to do, but it is a necessary component in day-to-day \n",
    "academic research. Flipped classrooms can include oral discussions or short \n",
    "PowerPoint presentations (<b>~15-20 min</b>.). </font></p>\n",
    "<p><font face=\"Consolas\">Graduate students will also be responsible for flipped \n",
    "presentation of a topical research area. This could be a particular methodology \n",
    "or research area that would be applicable to this seminar.</font></p>\n",
    "<p><font face=\"Consolas\">Sign up can be found here:\n",
    "<a href=\"https://bit.ly/2LYGEsK\">https://bit.ly/2LYGEsK</a></font></p>\n",
    "</body>\n"
   ]
  },
  {
   "cell_type": "markdown",
   "metadata": {
    "nbpresent": {
     "id": "10a7058e-5fa8-4a87-b550-f56ddc6914e9"
    }
   },
   "source": [
    "## <font color='red' > Course Notebook</font>\n",
    "***\n",
    "<body>\n",
    "<p class=\"x_MsoNormal\" style=\"font-family: Calibri, sans-serif; color: rgb(33, 33, 33); font-style: normal; font-variant-ligatures: normal; font-variant-caps: normal; font-weight: 400; letter-spacing: normal; orphans: 2; text-align: start; text-indent: 0px; text-transform: none; white-space: normal; widows: 2; word-spacing: 0px; -webkit-text-stroke-width: 0px; text-decoration-style: initial; text-decoration-color: initial; margin-left: 0in; margin-right: 0in; margin-top: 0in; margin-bottom: 0.0001pt; background-color: rgb(255, 255, 255)\">\n",
    "<font face=\"Consolas\">As a part of your group project work in this seminar, you \n",
    "will be required to keep a notebook or diary record of your efforts and progress \n",
    "on your project. This notebook should not just identify when group meetings \n",
    "were, it should document your work – papers read and cited, what you learned \n",
    "from your analysis, ideas about the project, etc. Doing so accomplishes at least \n",
    "two important things. First, a written record of all of your original effort is \n",
    "provided. This can serve as evidence to protect you in the event any conflict \n",
    "arises over your group's assessment. Second, you will have an orderly history of \n",
    "the development of ideas that can serve as a basis for discussion of the project \n",
    "with other people and as source material for the final report. These notebooks \n",
    "will be evaluated by me and this evaluation will become part of your individual \n",
    "grade. <b>EACH TEAM MEMBER WILL KEEP AN INDIVIDUAL NOTEBOOK</b>!</font></p>\n",
    "<p class=\"x_MsoNormal\" style=\"font-family: Calibri, sans-serif; color: rgb(33, 33, 33); font-style: normal; font-variant-ligatures: normal; font-variant-caps: normal; font-weight: 400; letter-spacing: normal; orphans: 2; text-align: start; text-indent: 0px; text-transform: none; white-space: normal; widows: 2; word-spacing: 0px; -webkit-text-stroke-width: 0px; text-decoration-style: initial; text-decoration-color: initial; margin-left: 0in; margin-right: 0in; margin-top: 0in; margin-bottom: 0.0001pt; background-color: rgb(255, 255, 255)\">&nbsp;</p>\n",
    "<p class=\"x_MsoNormal\" style=\"font-family: Calibri, sans-serif; color: rgb(33, 33, 33); font-style: normal; font-variant-ligatures: normal; font-variant-caps: normal; font-weight: 400; letter-spacing: normal; orphans: 2; text-align: start; text-indent: 0px; text-transform: none; white-space: normal; widows: 2; word-spacing: 0px; -webkit-text-stroke-width: 0px; text-decoration-style: initial; text-decoration-color: initial; margin-left: 0in; margin-right: 0in; margin-top: 0in; margin-bottom: 0.0001pt; background-color: rgb(255, 255, 255)\">\n",
    "<font face=\"Consolas\">I recommend a hard-copy notebook that you can use to \n",
    "document you work through the semester. However, I will also accept digital \n",
    "notebooks; though, you may want to continually back up your digital copy just in \n",
    "case of file corruption or failed hard drives. Github?</font></p>\n",
    "<p class=\"x_MsoNormal\" style=\"font-family: Calibri, sans-serif; color: rgb(33, 33, 33); font-style: normal; font-variant-ligatures: normal; font-variant-caps: normal; font-weight: 400; letter-spacing: normal; orphans: 2; text-align: start; text-indent: 0px; text-transform: none; white-space: normal; widows: 2; word-spacing: 0px; -webkit-text-stroke-width: 0px; text-decoration-style: initial; text-decoration-color: initial; margin-left: 0in; margin-right: 0in; margin-top: 0in; margin-bottom: 0.0001pt; background-color: rgb(255, 255, 255)\">&nbsp;</p>\n",
    "<p class=\"x_MsoNormal\" style=\"font-family: Calibri, sans-serif; color: rgb(33, 33, 33); font-style: normal; font-variant-ligatures: normal; font-variant-caps: normal; font-weight: 400; letter-spacing: normal; orphans: 2; text-align: start; text-indent: 0px; text-transform: none; white-space: normal; widows: 2; word-spacing: 0px; -webkit-text-stroke-width: 0px; text-decoration-style: initial; text-decoration-color: initial; margin-left: 0in; margin-right: 0in; margin-top: 0in; margin-bottom: 0.0001pt; background-color: rgb(255, 255, 255)\">\n",
    "<font face=\"Consolas\">In your original, hard-copy notebook, I provide the \n",
    "following rules: write the date at the top of each page you begin; try to make \n",
    "no erasures. Anything deleted should be done so by passing a single line through \n",
    "it; begin each day’s entries on a new page; keep the notebook up-to-date; use it \n",
    "to make original entries; do not make notes on loose papers to be re-copied into \n",
    "the book; be sure the contents of the book are intelligible to others such as \n",
    "your team members and myself.</font></p>\n",
    "<p class=\"x_MsoNormal\" style=\"font-family: Calibri, sans-serif; color: rgb(33, 33, 33); font-style: normal; font-variant-ligatures: normal; font-variant-caps: normal; font-weight: 400; letter-spacing: normal; orphans: 2; text-align: start; text-indent: 0px; text-transform: none; white-space: normal; widows: 2; word-spacing: 0px; -webkit-text-stroke-width: 0px; text-decoration-style: initial; text-decoration-color: initial; margin-left: 0in; margin-right: 0in; margin-top: 0in; margin-bottom: 0.0001pt; background-color: rgb(255, 255, 255)\">&nbsp;</p>\n",
    "<p class=\"x_MsoNormal\" style=\"font-family: Calibri, sans-serif; color: rgb(33, 33, 33); font-style: normal; font-variant-ligatures: normal; font-variant-caps: normal; font-weight: 400; letter-spacing: normal; orphans: 2; text-align: start; text-indent: 0px; text-transform: none; white-space: normal; widows: 2; word-spacing: 0px; -webkit-text-stroke-width: 0px; text-decoration-style: initial; text-decoration-color: initial; margin-left: 0in; margin-right: 0in; margin-top: 0in; margin-bottom: 0.0001pt; background-color: rgb(255, 255, 255)\">\n",
    "<font face=\"Consolas\">What to include in your notebook:</font></p>\n",
    "<ul>\n",
    "\t<li>\n",
    "\t<p class=\"x_MsoNormal\" style=\"font-family: Calibri, sans-serif; color: rgb(33, 33, 33); font-style: normal; font-variant-ligatures: normal; font-variant-caps: normal; font-weight: 400; letter-spacing: normal; orphans: 2; text-align: start; text-indent: 0px; text-transform: none; white-space: normal; widows: 2; word-spacing: 0px; -webkit-text-stroke-width: 0px; text-decoration-style: initial; text-decoration-color: initial; margin-left: 0in; margin-right: 0in; margin-top: 0in; margin-bottom: 0.0001pt; background-color: rgb(255, 255, 255)\">\n",
    "\t<font face=\"Consolas\">A log of how you spend your time on the project; such \n",
    "\tas conferences with teammates or with myself, search of literature, making \n",
    "\tcalculations, building notebooks and the like.</font></li>\n",
    "\t<li>\n",
    "\t<p class=\"x_MsoNormal\" style=\"font-family: Calibri, sans-serif; color: rgb(33, 33, 33); font-style: normal; font-variant-ligatures: normal; font-variant-caps: normal; font-weight: 400; letter-spacing: normal; orphans: 2; text-align: start; text-indent: 0px; text-transform: none; white-space: normal; widows: 2; word-spacing: 0px; -webkit-text-stroke-width: 0px; text-decoration-style: initial; text-decoration-color: initial; margin-left: 0in; margin-right: 0in; margin-top: 0in; margin-bottom: 0.0001pt; background-color: rgb(255, 255, 255)\">\n",
    "\t<font face=\"Consolas\">Include a resume of your group conferences, items \n",
    "\tdiscussed, and decisions made.</font></li>\n",
    "\t<li>\n",
    "\t<p class=\"x_MsoNormal\" style=\"font-family: Calibri, sans-serif; color: rgb(33, 33, 33); font-style: normal; font-variant-ligatures: normal; font-variant-caps: normal; font-weight: 400; letter-spacing: normal; orphans: 2; text-align: start; text-indent: 0px; text-transform: none; white-space: normal; widows: 2; word-spacing: 0px; -webkit-text-stroke-width: 0px; text-decoration-style: initial; text-decoration-color: initial; margin-left: 0in; margin-right: 0in; margin-top: 0in; margin-bottom: 0.0001pt; background-color: rgb(255, 255, 255)\">\n",
    "\t<font face=\"Consolas\">Calculations, data analyses, and interpretations.</font></li>\n",
    "\t<li>\n",
    "\t<p class=\"x_MsoNormal\" style=\"font-family: Calibri, sans-serif; color: rgb(33, 33, 33); font-style: normal; font-variant-ligatures: normal; font-variant-caps: normal; font-weight: 400; letter-spacing: normal; orphans: 2; text-align: start; text-indent: 0px; text-transform: none; white-space: normal; widows: 2; word-spacing: 0px; -webkit-text-stroke-width: 0px; text-decoration-style: initial; text-decoration-color: initial; margin-left: 0in; margin-right: 0in; margin-top: 0in; margin-bottom: 0.0001pt; background-color: rgb(255, 255, 255)\">\n",
    "\t<font face=\"Consolas\">Any ideas that occur to you, whether eventually \n",
    "\tapplicable or not, or questions that appear necessary to answer as the work \n",
    "\tproceeds, or anything else of similar nature.</font></li>\n",
    "\t<li>\n",
    "\t<p class=\"x_MsoNormal\" style=\"font-family: Calibri, sans-serif; color: rgb(33, 33, 33); font-style: normal; font-variant-ligatures: normal; font-variant-caps: normal; font-weight: 400; letter-spacing: normal; orphans: 2; text-align: start; text-indent: 0px; text-transform: none; white-space: normal; widows: 2; word-spacing: 0px; -webkit-text-stroke-width: 0px; text-decoration-style: initial; text-decoration-color: initial; margin-left: 0in; margin-right: 0in; margin-top: 0in; margin-bottom: 0.0001pt; background-color: rgb(255, 255, 255)\">\n",
    "\t<font face=\"Consolas\">Any experiments you conduct showing purpose, data \n",
    "\tused, procedures, and results.</font></li>\n",
    "\t<li>\n",
    "\t<p class=\"x_MsoNormal\" style=\"font-family: Calibri, sans-serif; color: rgb(33, 33, 33); font-style: normal; font-variant-ligatures: normal; font-variant-caps: normal; font-weight: 400; letter-spacing: normal; orphans: 2; text-align: start; text-indent: 0px; text-transform: none; white-space: normal; widows: 2; word-spacing: 0px; -webkit-text-stroke-width: 0px; text-decoration-style: initial; text-decoration-color: initial; margin-left: 0in; margin-right: 0in; margin-top: 0in; margin-bottom: 0.0001pt; background-color: rgb(255, 255, 255)\">\n",
    "\t<font face=\"Consolas\">References which you use.</font></li>\n",
    "</ul>\n",
    "<p class=\"x_MsoNormal\" style=\"font-family: Calibri, sans-serif; color: rgb(33, 33, 33); font-style: normal; font-variant-ligatures: normal; font-variant-caps: normal; font-weight: 400; letter-spacing: normal; orphans: 2; text-align: start; text-indent: 0px; text-transform: none; white-space: normal; widows: 2; word-spacing: 0px; -webkit-text-stroke-width: 0px; text-decoration-style: initial; text-decoration-color: initial; margin-left: 0in; margin-right: 0in; margin-top: 0in; margin-bottom: 0.0001pt; background-color: rgb(255, 255, 255)\">\n",
    "<font face=\"Consolas\">Remember, the notebook is to be turned in to me and it \n",
    "represents an important element in determining your grade for the course. The \n",
    "log book is a record of your research efforts. I am looking for evidence of \n",
    "critical thinking, problem solving, quantitative data assessment, creativity and \n",
    "effective communication skills in your log. Again, whenever you sit down to work \n",
    "on material for this seminar, open your log book and document your experience as \n",
    "you are experiencing it!</font></p>\n",
    "\n",
    "</body>"
   ]
  },
  {
   "cell_type": "markdown",
   "metadata": {
    "nbpresent": {
     "id": "79b4f88a-5d1a-4cb7-b249-64fd133bfc75"
    }
   },
   "source": [
    "## <font color='red' > Course Evaluation</font>\n",
    "***\n",
    "<body>\n",
    "\n",
    "<p><font face=\"Consolas\">Final course grades will be calculated as follows:\n",
    "</font></p>\n",
    "<p><font face=\"Consolas\">&quot;Flipped&quot; classroom assignments: <b>&nbsp; \n",
    "20%</b></font></p>\n",
    "<p><font face=\"Consolas\">Final presentation:<b>&nbsp;&nbsp;&nbsp;&nbsp;&nbsp;&nbsp;&nbsp;&nbsp;&nbsp;&nbsp;&nbsp;&nbsp;&nbsp;&nbsp;&nbsp; 20%</b></font></p>\n",
    "<p><font face=\"Consolas\">Final paper:<b>&nbsp;&nbsp;&nbsp;&nbsp;&nbsp;&nbsp;&nbsp;&nbsp;&nbsp;&nbsp;&nbsp;&nbsp;&nbsp;&nbsp;&nbsp;&nbsp;&nbsp;&nbsp;&nbsp;&nbsp;&nbsp;&nbsp; \n",
    "40%</b></font></p>\n",
    "<p><font face=\"Consolas\">Course notebook:<b>&nbsp;&nbsp;&nbsp;&nbsp;&nbsp;&nbsp;&nbsp;&nbsp;&nbsp;&nbsp;&nbsp;&nbsp;&nbsp;&nbsp;&nbsp;&nbsp;&nbsp;&nbsp;&nbsp;10%</b></font></p>\n",
    "<p><font face=\"Consolas\">Peer assessment:<b>&nbsp;&nbsp;&nbsp;&nbsp;&nbsp;&nbsp;&nbsp;&nbsp;&nbsp;&nbsp;&nbsp;&nbsp;&nbsp;&nbsp;&nbsp;&nbsp;&nbsp;&nbsp;&nbsp;10%</b></font></p>\n",
    "\n",
    "</body>"
   ]
  },
  {
   "cell_type": "markdown",
   "metadata": {
    "nbpresent": {
     "id": "db8da4f6-b70a-43f6-a671-482210c1d418"
    }
   },
   "source": [
    "## <font color='red' > Access and Accommodations</font>\n",
    "***\n",
    "<body>\n",
    "<p><font face=\"Consolas\">If you need an accommodation for this class, please contact the Disability Resource Center as soon as possible. The DRC coordinates accommodations for students with disabilities. It is located on the 4th floor of the Health Services Building, and can be reached at 815-753-1303 or drc@niu.edu.<br>\n",
    "<br>\n",
    "Also, please contact me privately as soon as possible so we can discuss your accommodations. Please note that you will not be required to disclose your disability, only your accommodations. The sooner you let me know your needs, the sooner I can assist you in achieving your learning goals in this course.</font></p></body>"
   ]
  },
  {
   "cell_type": "markdown",
   "metadata": {
    "nbpresent": {
     "id": "39750d28-543b-4027-ad5f-ffb93d280fda"
    }
   },
   "source": [
    "## <font color='red' > Final thoughts...</font>\n",
    "***\n",
    "<p><font face=\"Consolas\">This syllabus is a guide and every attempt is made to provide an accurate overview of the course and its requirements. However, certain circumstances may make it necessary for me to modify the syllabus during the semester for your benefit and the changes may depend, in part, on course progress and our needs. I will announce any change to the syllabus as early as possible so that you can adjust your schedule.<br>\n",
    "<br>\n",
    "I have an open door policy, but please feel free to e-mail me (<b>vgensini@niu.edu</b>) and set up a meeting time if necessary.</font></p>"
   ]
  }
 ],
 "metadata": {
  "kernelspec": {
   "display_name": "Python [conda env:py36]",
   "language": "python",
   "name": "conda-env-py36-py"
  },
  "language_info": {
   "codemirror_mode": {
    "name": "ipython",
    "version": 3
   },
   "file_extension": ".py",
   "mimetype": "text/x-python",
   "name": "python",
   "nbconvert_exporter": "python",
   "pygments_lexer": "ipython3",
   "version": "3.6.7"
  },
  "nbpresent": {
   "slides": {
    "0d362ef0-b94c-47a1-951b-c7739e1966c4": {
     "id": "0d362ef0-b94c-47a1-951b-c7739e1966c4",
     "prev": "55deca73-1f7a-41bb-97c0-1b95c2b6d486",
     "regions": {
      "82cdc8cb-ec33-4eef-9d20-da672cd57822": {
       "attrs": {
        "height": 0.8,
        "width": 0.8,
        "x": 0.1,
        "y": 0.1
       },
       "content": {
        "cell": "ac957b64-abf0-40b9-9cd9-88397087c479",
        "part": "whole"
       },
       "id": "82cdc8cb-ec33-4eef-9d20-da672cd57822"
      }
     }
    },
    "0ec45cd2-c8e9-4866-a856-ed11e351b349": {
     "id": "0ec45cd2-c8e9-4866-a856-ed11e351b349",
     "prev": "0d362ef0-b94c-47a1-951b-c7739e1966c4",
     "regions": {
      "d99a1fa9-7fcf-48fb-9e42-f91ba3ab006c": {
       "attrs": {
        "height": 0.8,
        "width": 0.8,
        "x": 0.1,
        "y": 0.1
       },
       "content": {
        "cell": "29ae3b23-5c5c-4349-9fe9-c83619a98f7d",
        "part": "whole"
       },
       "id": "d99a1fa9-7fcf-48fb-9e42-f91ba3ab006c"
      }
     }
    },
    "1221154a-639c-471c-a3d4-4f2cff908f52": {
     "id": "1221154a-639c-471c-a3d4-4f2cff908f52",
     "prev": "c7798e19-9a6a-4e8e-9d8a-070e038e7344",
     "regions": {
      "18e5a533-8a44-46a6-832f-27145fdf598a": {
       "attrs": {
        "height": 0.8,
        "width": 0.8,
        "x": 0.1,
        "y": 0.1
       },
       "content": {
        "cell": "10a7058e-5fa8-4a87-b550-f56ddc6914e9",
        "part": "whole"
       },
       "id": "18e5a533-8a44-46a6-832f-27145fdf598a"
      }
     }
    },
    "55deca73-1f7a-41bb-97c0-1b95c2b6d486": {
     "id": "55deca73-1f7a-41bb-97c0-1b95c2b6d486",
     "prev": "5c354b00-07e2-4a42-9039-474a78e56e0c",
     "regions": {
      "b2988293-f70c-4692-96a9-4577ebc98b58": {
       "attrs": {
        "height": 0.8,
        "width": 0.8,
        "x": 0.1,
        "y": 0.1
       },
       "content": {
        "cell": "d887c563-e517-488c-98e9-77b673afffd0",
        "part": "whole"
       },
       "id": "b2988293-f70c-4692-96a9-4577ebc98b58"
      }
     }
    },
    "5c354b00-07e2-4a42-9039-474a78e56e0c": {
     "id": "5c354b00-07e2-4a42-9039-474a78e56e0c",
     "prev": null,
     "regions": {
      "0e83fe17-802c-4eb2-81ce-f600ba497d2a": {
       "attrs": {
        "height": 0.8,
        "width": 0.8,
        "x": 0.1,
        "y": 0.1
       },
       "content": {
        "cell": "f203c742-a376-4e20-b95b-8e247037c704",
        "part": "whole"
       },
       "id": "0e83fe17-802c-4eb2-81ce-f600ba497d2a"
      }
     }
    },
    "bd778784-e568-45f8-be06-247dacd62f76": {
     "id": "bd778784-e568-45f8-be06-247dacd62f76",
     "prev": "1221154a-639c-471c-a3d4-4f2cff908f52",
     "regions": {
      "1acc4307-0812-4e1a-be37-e6d9d2a2286e": {
       "attrs": {
        "height": 0.8,
        "width": 0.8,
        "x": 0.1,
        "y": 0.1
       },
       "content": {
        "cell": "79b4f88a-5d1a-4cb7-b249-64fd133bfc75",
        "part": "whole"
       },
       "id": "1acc4307-0812-4e1a-be37-e6d9d2a2286e"
      }
     }
    },
    "c7798e19-9a6a-4e8e-9d8a-070e038e7344": {
     "id": "c7798e19-9a6a-4e8e-9d8a-070e038e7344",
     "prev": "0ec45cd2-c8e9-4866-a856-ed11e351b349",
     "regions": {
      "378abd52-f193-4940-b7c9-a5e0cf11377f": {
       "attrs": {
        "height": 0.8,
        "width": 0.8,
        "x": 0.1,
        "y": 0.1
       },
       "content": {
        "cell": "0cfbc43d-6a8e-4d2c-8d56-4e537491ed46",
        "part": "whole"
       },
       "id": "378abd52-f193-4940-b7c9-a5e0cf11377f"
      }
     }
    },
    "cb0ddef7-ec84-4f12-9744-510ea62f1c04": {
     "id": "cb0ddef7-ec84-4f12-9744-510ea62f1c04",
     "prev": "facdb42b-1d19-4d02-9444-89ff60b3ca4c",
     "regions": {
      "873150ec-eb67-4871-aaa9-373fcb8eab94": {
       "attrs": {
        "height": 0.8,
        "width": 0.8,
        "x": 0.1,
        "y": 0.1
       },
       "content": {
        "cell": "39750d28-543b-4027-ad5f-ffb93d280fda",
        "part": "whole"
       },
       "id": "873150ec-eb67-4871-aaa9-373fcb8eab94"
      }
     }
    },
    "facdb42b-1d19-4d02-9444-89ff60b3ca4c": {
     "id": "facdb42b-1d19-4d02-9444-89ff60b3ca4c",
     "prev": "bd778784-e568-45f8-be06-247dacd62f76",
     "regions": {
      "5455e143-2287-4ddc-acb3-f75ab05dbf16": {
       "attrs": {
        "height": 0.8,
        "width": 0.8,
        "x": 0.1,
        "y": 0.1
       },
       "content": {
        "cell": "db8da4f6-b70a-43f6-a671-482210c1d418",
        "part": "whole"
       },
       "id": "5455e143-2287-4ddc-acb3-f75ab05dbf16"
      }
     }
    }
   },
   "themes": {}
  }
 },
 "nbformat": 4,
 "nbformat_minor": 2
}
