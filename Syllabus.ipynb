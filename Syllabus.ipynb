{
 "cells": [
  {
   "cell_type": "markdown",
   "metadata": {},
   "source": [
    "# <font color='red'> Spring 2019 GEOG 498/790: Seminar in Current Problems </font>\n",
    "## Data analysis and visualization for geographic and atmospheric science in Python\n",
    "<body><img style=\"float:right;height:50px\"src=\"https://encrypted-tbn0.gstatic.com/images?q=tbn:ANd9GcQthtdrc2lZyEOC1iiwubFyvNfzJE7q7_GCTdlFF3peKckmi7cN\">\n",
    "<br>\n",
    "<font face=\"Consolas\">Lecture Tuesday 9:30-10:45a (DH 217) | Lab Applications Thursday 9:30-10:45a (DH 101)\n",
    "<br>\n",
    "Professor: Dr. Victor Gensini | vgensini@niu.edu | 219-E Davis Hall\n",
    "<br>\n",
    "Department of Geographic and Atmospheric Sciences\n",
    "<br>\n",
    "Northern Illinois University</font>\n",
    "</body>"
   ]
  },
  {
   "cell_type": "markdown",
   "metadata": {},
   "source": [
    "## <font color='red'> Course Description </font>\n",
    "***\n",
    "<body>\n",
    "<p><font face=\"Consolas\">This course will introduce modern concepts and recent \n",
    "trends in data analysis and visualization using the <b>Python</b> programming \n",
    "language. Python (not to be confused with the snake species!) is quickly \n",
    "becoming the most popular programming language for scientific data analysis and \n",
    "visualization. This is, in part, due to the <b>open-source</b> (i.e., free) \n",
    "nature of Python libraries, easy-to-learn syntax, and wide user support \n",
    "community. This course is not intended to teach you all the intricacies \n",
    "associated with the Python programming language. Rather, my goal is to <i>open your world</i> \n",
    "to the powerful capabilities this language (and its corresponding libraries) has \n",
    "to offer in the context of <b>applied problem solving</b> in geographic and \n",
    "atmospheric science. Our field is entering (already in?) an era of \n",
    "&quot;<b>big-data</b>&quot;, where large datasets are becoming the basis for administrative \n",
    "decision making (<i>e.g., data analytics</i>). Thus, skills in data analytics are \n",
    "highly desirable from employers, especially those related to weather and \n",
    "climate applications. I cannot possibly teach you everything there is to know about Python programming as it pertains to geography/meteorology in one semester. There will likely be a lot of web searching for the corrext syntax or answer to a specific coding problem. This is all a part of the normal learning process, so please try not to get frustrated. <i>Patience is key when developing excellent code.</i><br>\n",
    "<br>\n",
    "This particular semester is unique in that the beginning knowledge base spans \n",
    "from junior undergraduate to second-year PhD. This is sometimes the case in \n",
    "&quot;graduate&quot; seminar-style courses, but do not expect this to impact course \n",
    "content. We will still examine complex topics and work toward solving applied \n",
    "research problems that have the potential to be submitted to a referred journal \n",
    "for publication. Graduate students (GEOG 790) will have different expectations \n",
    "vs. undergraduate (GEOG 498) students. This may include leading class \n",
    "discussions in a &quot;flipped&quot; environment, contribution of additional analyses, and \n",
    "leading the organization and writing of any potential manuscripts.<br>\n",
    "<br>\n",
    "The first ~half of this course will present topics (elaborated on below) relevant to this seminar. The second ~half will focus on developing specific group projects and applying course techniques on a targeted weather/climate research problem. At the end of the course, each group will present their respective project to an open-department audience and turn in a formatted research paper (details forthcoming).\n",
    "</font></p>\n",
    "</body>"
   ]
  },
  {
   "cell_type": "markdown",
   "metadata": {},
   "source": [
    "## <font color='red' >Learning Outcomes </font>\n",
    "***\n",
    "<body>\n",
    "<ul>\n",
    "\t<li><font face=\"Consolas\">Understand basic Python syntax and environments (including Jupyter Research Notebooks)</font></li>\n",
    "\t<li><font face=\"Consolas\">Display and manupulate various meteorological file formats (e.g., netCDF)</font></li>\n",
    "\t<li><font face=\"Consolas\">Describe various Python libraries used in \n",
    "\tscientific data analysis and visualization</font></li>\n",
    "\t<li><font face=\"Consolas\">Generate IPython notebooks for weather/climate data analysis and visualization</font></li>\n",
    "\t<li><font face=\"Consolas\">Apply basic data analytics to a unique \n",
    "\tweather/climate research question</font></li>\n",
    "\t<li><font face=\"Consolas\">Explore common data sources and creation of new \n",
    "\tdata sets</font></li>\n",
    "</ul>\n",
    "\n",
    "</body>"
   ]
  },
  {
   "cell_type": "markdown",
   "metadata": {},
   "source": [
    "## <font color='red' > Materials</font>\n",
    "***\n",
    "<body>\n",
    "<p><font face=\"Consolas\">The Anaconda Python installation for this course is considered open source. The packages needed for this course are installed on the lab computers in DH 101, and we will perform all needed computing in this lab. Thus, it is not \n",
    "necessary for you to purchase and/or bring a laptop to class (although I suspect some of you may wish to do so anyway). I \n",
    "recommend a three-ring binder to aid in the organization of course readings, notes, and code functions. In addition, a USB flash drive may be helpful for saving documents and notebooks for portability.</font></p>\n",
    "<p><font face=\"Consolas\">A course GitHub repository has been set up to organize \n",
    "the course materials: <a href=\"https://github.com/vgensini/geog790\">\n",
    "https://github.com/vgensini/geog790</a></font></p>\n",
    "<p><font face=\"Consolas\">Jupyter Notebooks can be rendered from this repository \n",
    "using Jupyter's nbviewer: \n",
    "https://nbviewer.jupyter.org/github/vgensini/geog790/tree/master/<br></font></p></body>"
   ]
  },
  {
   "cell_type": "markdown",
   "metadata": {},
   "source": [
    "## <font color='red'> Topical outline</font>\n",
    "***\n",
    "<body>\n",
    "<p><font face=\"Consolas\"><b>1. Introduction to Python</b> <br>\n",
    "&nbsp;&nbsp;&nbsp; a. Installing Anaconda<br>\n",
    "&nbsp;&nbsp;&nbsp; b. The Anaconda Terminal<br>\n",
    "&nbsp;&nbsp;&nbsp; c. Managing the Anaconda Environment<br>\n",
    "&nbsp;&nbsp;&nbsp; d. IPython, Jupyter Notebooks, and Python Scripts<br>\n",
    "&nbsp;&nbsp;&nbsp; e. Loops, functions, and simple logic syntax</font></p>\n",
    "<p><font face=\"Consolas\"><b>2. Strategies for approaching applied weather/climate \n",
    "questions</b><br>\n",
    "&nbsp;&nbsp;&nbsp; a. Asking the &quot;right&quot; question<br>\n",
    "&nbsp;&nbsp;&nbsp;&nbsp;&nbsp;&nbsp;&nbsp; <i>i</i>. Background literature<br>\n",
    "&nbsp;&nbsp;&nbsp;&nbsp;&nbsp;&nbsp;&nbsp; <i>ii</i>. Gaps, future work, new datasets<br>\n",
    "&nbsp;&nbsp;&nbsp;&nbsp;&nbsp;&nbsp;&nbsp; <i>iii</i>. Hypothesis<br>\n",
    "&nbsp;&nbsp;&nbsp; b. Data, data, data<br>\n",
    "&nbsp;&nbsp;&nbsp; c. Analysis<br>\n",
    "&nbsp;&nbsp;&nbsp; d. Visualization<br>\n",
    "&nbsp;&nbsp;&nbsp; e. &quot;Condensation&quot;<br>\n",
    "&nbsp;&nbsp;&nbsp; f. Expressing uncertainty</font></p>\n",
    "<p><font face=\"Consolas\"><b>3. Common Weather/Climate Data Formats</b><br>\n",
    "&nbsp;&nbsp;&nbsp; a. Tabular/CSV<br>\n",
    "&nbsp;&nbsp;&nbsp; b. GRIB/GRIB2<br>\n",
    "&nbsp;&nbsp;&nbsp; c. netCDF, CF conventions<br>\n",
    "&nbsp;&nbsp;&nbsp; d. XML<br>\n",
    "&nbsp;&nbsp;&nbsp; e. Shapefile / Raster<br>\n",
    "&nbsp;&nbsp;&nbsp; f. Converters</font></p>\n",
    "<p><font face=\"Consolas\"><b>4. Common Python libraries for weather/climate data \n",
    "analysis</b><br>\n",
    "&nbsp;&nbsp;&nbsp; a. Data arrays<br>\n",
    "&nbsp;&nbsp;&nbsp;&nbsp;&nbsp;&nbsp;&nbsp; <i>i</i>. NumPy<br>\n",
    "&nbsp;&nbsp;&nbsp;&nbsp;&nbsp;&nbsp;&nbsp; <i>ii</i>. xarray<br>\n",
    "&nbsp;&nbsp;&nbsp; b. Data visualization<br>\n",
    "&nbsp;&nbsp;&nbsp;&nbsp;&nbsp;&nbsp;&nbsp; <i>i</i>. Matplotlib<br>\n",
    "&nbsp;&nbsp;&nbsp;&nbsp;&nbsp;&nbsp;&nbsp; <i>ii</i>. Seaborn<br>\n",
    "&nbsp;&nbsp;&nbsp; c. Mapping<br>\n",
    "&nbsp;&nbsp;&nbsp;&nbsp;&nbsp;&nbsp;&nbsp; <i>i</i>. Cartopy<br>\n",
    "&nbsp;&nbsp;&nbsp;&nbsp;&nbsp;&nbsp;&nbsp; <i>ii</i>. Basemap<br>\n",
    "&nbsp;&nbsp;&nbsp; d. Standalone packages<br>\n",
    "&nbsp;&nbsp;&nbsp;&nbsp;&nbsp;&nbsp;&nbsp; <i>i</i>. MetPy<br>\n",
    "&nbsp;&nbsp;&nbsp;&nbsp;&nbsp;&nbsp;&nbsp; <i>ii</i>. PyGrADS<br>\n",
    "&nbsp;&nbsp;&nbsp;&nbsp;&nbsp;&nbsp;&nbsp; <i>iii</i>. PyNGL<br>\n",
    "&nbsp;&nbsp;&nbsp; e. SciPy: The Swiss Army Knife</font></p>\n",
    "<p><font face=\"Consolas\"><b>5. Common Data Sources</b><br>\n",
    "&nbsp;&nbsp;&nbsp; a. Reanalysis data<br>\n",
    "&nbsp;&nbsp;&nbsp; b. Sounding data<br>\n",
    "&nbsp;&nbsp;&nbsp; c. Surface observation data<br>\n",
    "&nbsp;&nbsp;&nbsp; d. RADAR data<br>\n",
    "&nbsp;&nbsp;&nbsp; e. Unidata Repositories</font></p>\n",
    "<p><b><font face=\"Consolas\">6. Examples</font></b></p>\n",
    "<p><b><font face=\"Consolas\">7. Brainstorm and Assign Group Projects</font></b></p>\n",
    "<p><b><font face=\"Consolas\">8. Present Group Projects</font></b></p>\n",
    "<p><b><font face=\"Consolas\">9. Finish Final Report</font></b></p>\n",
    "</body>"
   ]
  },
  {
   "cell_type": "markdown",
   "metadata": {},
   "source": [
    "## <font color='red' > Course Evaluation</font>\n",
    "***\n",
    "<body>\n",
    "\n",
    "<p><font face=\"Consolas\">Final course grades will be calculated as follows:\n",
    "</font></p>\n",
    "<p><font face=\"Consolas\">&quot;Flipped&quot; classroom assignments: <b>&nbsp; \n",
    "30%</b></font></p>\n",
    "<p><font face=\"Consolas\">Final presentation:<b>&nbsp;&nbsp;&nbsp;&nbsp;&nbsp;&nbsp;&nbsp;&nbsp;&nbsp;&nbsp;&nbsp;&nbsp;&nbsp;&nbsp;&nbsp; 20%</b></font></p>\n",
    "<p><font face=\"Consolas\">Final paper:<b>&nbsp;&nbsp;&nbsp;&nbsp;&nbsp;&nbsp;&nbsp;&nbsp;&nbsp;&nbsp;&nbsp;&nbsp;&nbsp;&nbsp;&nbsp;&nbsp;&nbsp;&nbsp;&nbsp;&nbsp;&nbsp;&nbsp; \n",
    "50%</b></font></p>\n",
    "\n",
    "</body>"
   ]
  },
  {
   "cell_type": "markdown",
   "metadata": {},
   "source": [
    "## <font color='red' > Access and Accommodations</font>\n",
    "***\n",
    "<body>\n",
    "<p><font face=\"Consolas\">If you need an accommodation for this class, please contact the Disability Resource Center as soon as possible. The DRC coordinates accommodations for students with disabilities. It is located on the 4th floor of the Health Services Building, and can be reached at 815-753-1303 or drc@niu.edu.<br>\n",
    "<br>\n",
    "Also, please contact me privately as soon as possible so we can discuss your accommodations. Please note that you will not be required to disclose your disability, only your accommodations. The sooner you let me know your needs, the sooner I can assist you in achieving your learning goals in this course.</font></p></body>"
   ]
  },
  {
   "cell_type": "markdown",
   "metadata": {},
   "source": [
    "## <font color='red' > Final thoughts...</font>\n",
    "***\n",
    "<p><font face=\"Consolas\">This syllabus is a guide and every attempt is made to provide an accurate overview of the course and its requirements. However, certain circumstances may make it necessary for me to modify the syllabus during the semester for your benefit and the changes may depend, in part, on course progress and our needs. I will announce any change to the syllabus as early as possible so that you can adjust your schedule.<br>\n",
    "<br>\n",
    "I have an open door policy, but please feel free to e-mail me (<b>vgensini@niu.edu</b>) and set up a meeting time if necessary.</font></p>"
   ]
  }
 ],
 "metadata": {
  "kernelspec": {
   "display_name": "Python [conda env:py36]",
   "language": "python",
   "name": "conda-env-py36-py"
  },
  "language_info": {
   "codemirror_mode": {
    "name": "ipython",
    "version": 3
   },
   "file_extension": ".py",
   "mimetype": "text/x-python",
   "name": "python",
   "nbconvert_exporter": "python",
   "pygments_lexer": "ipython3",
   "version": "3.6.7"
  }
 },
 "nbformat": 4,
 "nbformat_minor": 2
}
